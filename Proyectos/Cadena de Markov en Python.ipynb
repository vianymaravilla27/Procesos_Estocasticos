{
 "cells": [
  {
   "cell_type": "markdown",
   "metadata": {
    "id": "s0d49E--bqNo"
   },
   "source": [
    "## <font color='blue'>**Modelo epidemiológico básico para enfermedad infecciosa**</font>\n",
    "\n",
    "### Suposiciones\n",
    "\n",
    "1. La población inicial es de 1.000.000 habitantes sanos, en el día 0.\n",
    "\n",
    "2. Una persona puede estar en alguno de los siguientes cinco estados:\n",
    "    * Sano\n",
    "    * Enfermo leve\n",
    "    * Enfermo grave\n",
    "    * Recuperado\n",
    "    * Fallecido\n",
    "    \n",
    "\n",
    "3. Asociado a los estados anteriores podemos obtener las siguientes probabilidades de transición:\n",
    "    * $s_l$, la probabilidad de pasar de estar sano a tener síntomas leves,\n",
    "    * $l_g$, la probabilidad de pasar de tener síntomas leves a graves,\n",
    "    * $l_r$, la probabilidad de pasar de tener síntomas leves a recuperarse,\n",
    "    * $g_r$, la probabilidad de pasar de tener síntomas graves a recuperarse y\n",
    "    * $g_f$, la probabilidad de pasar de tener síntomas graves, a fallecer.\n",
    "\n",
    "Para cada día $n$, consideremos el vector:\n",
    "\n",
    "$$\\mathbf{X}(n) = \\begin{pmatrix}s(n), l(n), g(n), r(n), f(n)\\end{pmatrix}$$\n",
    "\n",
    "que corresponde a los individuos sanos, los enfermos leves, enfermos graves, recuperados y fallecidos al día $n$.\n",
    "\n",
    "Por ejemplo al día $0$ todos los individuos están sanos, así que $X(0)=(1000000,0,0,0,0)$.\n",
    "\n",
    "Para la evolución entre los distintos estados de Markov, se realizan las siguientes **suposiciones**:\n",
    "\n",
    "1. Paso de un estado a otro:\n",
    "    * Alguien solo puede fallecer si se encuentra enfermo grave.\n",
    "    * Si alguien es enfermo grave, tiene  $g_f$ probabilidad de pasar a ser fallecido, $g_r$ de recuperarse y por lo tanto  $(1-g_r-g_f)$ de quedarse enfermo grave\n",
    "    * La enfermedad se contagia de persona a persona, y de un día a otro una persona tiene probabilidad $s_l$ de pasar de estar sana a tener síntomas leves. \n",
    "    * No se puede pasar directamente a tener síntomas graves, recuperarse o morir. De modo que se queda sana de un día a otro con probabilidad $(1-s_l)$.\n",
    "    * Si una persona tiene síntomas leves, tiene probabilidad $l_g$ de pasar a tener síntomas graves y $l_r$ de pasar a recuperarse. Por lo tanto, tiene probabilidad $(1-l_g-l_r)$ de quedarse con síntomas leves.     \n",
    "    * Una persona que se recupera desarrolla inmunidad a la enfermedad, por lo que se queda en estado de recuperado.   \n",
    "    * Una persona que fallece, se queda en ese estado."
   ]
  },
  {
   "cell_type": "markdown",
   "metadata": {},
   "source": [
    "\n",
    "Con estos números y suposiciones, podemos entender, en valor esperado, cómo será el vector de población\n",
    "<br><br>\n",
    "$$\\mathbf{X}(n+1) = \\begin{pmatrix}s(n+1), l(n+1), g(n+1), r(n+1), f(n+1)\\end{pmatrix}$$\n",
    "<br>\n",
    "si sabemos cómo es el vector\n",
    "<br><br>\n",
    "$$\\mathbf{X}(n) = \\begin{pmatrix}s(n), l(n), g(n), r(n), f(n)\\end{pmatrix}$$\n",
    "<br>\n",
    "Por ejemplo, podemos esperar que la cantidad de recuperados al día $n+1$ sea:\n",
    "<br><br>\n",
    "$$r(n+1) = l_r·l(n) + g_r·g(n) + 1·r(n)$$\n",
    "<br>\n",
    "pues de los de síntomas leves del día $n$ habrá una proporción $l_r$ de ellos que se recuperen, de los graves del día $n$ habrá una proporción $g_r$ de ellos que se recuperen, y todos los recuperados del día $n$ se quedan recuperados. De esta forma, obtenemos el siguiente sistema de ecuaciones de lo que podemos esperar:\n",
    "<br><br>\n",
    "$$\n",
    "\\begin{align}\n",
    "s(n+1)& = (1 - s_l)\\times s(n) \\\\[0.4em]\n",
    "l(n+1)& = s_l\\times s(n)+(1-l_r-l_g)\\times l(n) \\\\[0.4em]\n",
    "g(n+1)& = l_g\\times l(n)+(1-g_r-g_f)\\times g(n) \\\\[0.4em]\n",
    "r(n+1)& = l_r\\times l(n)+g_r\\times g(n)+1\\times r(n) \\\\[0.4em]\n",
    "f(n+1)& = g_f\\times g(n)+1\\times f(n)\n",
    "\\end{align}\n",
    "$$\n",
    "<br><br>\n",
    "Este sistema de ecuaciones se puede escribir de una forma mucho más compacta. Si definimos la matriz:\n",
    "<br><br>\n",
    "$$\\mathbf{A}=\\begin{pmatrix} 1-s_l & 0 & 0 & 0 & 0 \\\\s_l & 1-l_r-l_g & 0 & 0 & 0 \\\\0 & l_g & 1-g_r-g_f & 0 & 0 \\\\ 0 & l_r & g_r & 1 & 0\\\\ 0 & 0 & g_f & 0 & 1 \\end{pmatrix}$$\n",
    "<br><br>\n",
    "las ecuaciones anteriores se pueden abreviar simplemente a:\n",
    "<br><br>\n",
    "$$X(n+1)=AX(n)$$\n",
    "<br>\n",
    "De esta forma, si queremos entender qué esperar del día $n$, basta hacer la multiplicación matricial:\n",
    "<br><br>\n",
    "$$X(n)=A^n X(0)$$"
   ]
  },
  {
   "cell_type": "markdown",
   "metadata": {
    "id": "8sOzyYa8bqNp"
   },
   "source": [
    "# Cadena de Markov\n",
    "\n",
    "Se tienen los siguientes valores para los parámetros del modelo: $s_l=0.20$, $l_g=0.15$, $l_r=0.25$, $g_r=0.15$ y $g_f=0.15$.\n",
    "\n",
    "**Genera un algoritmo que retorne el estado de la poblacion al dia 20.\n",
    "Grafique.**\n"
   ]
  },
  {
   "cell_type": "code",
   "execution_count": 10,
   "metadata": {
    "scrolled": true
   },
   "outputs": [],
   "source": [
    "import numpy as np\n",
    "import matplotlib.pyplot as plt\n",
    "\n",
    "sl = 0.20\n",
    "lg = 0.15\n",
    "lr = 0.25\n",
    "gr = 0.15\n",
    "gf = 0.15\n",
    "\n",
    "x = np.array([[1000000], [0], [0], [0], [0]])\n",
    "A = np.array([[1 - sl, 0, 0, 0, 0], [sl, 1 - lr - lg, 0, 0, 0], [0, lg, 1 - gr - gf, 0, 0], [0, lr, gr, 1, 0],\n",
    "             [0, 0, gf, 0, 1]])"
   ]
  },
  {
   "cell_type": "code",
   "execution_count": 11,
   "metadata": {},
   "outputs": [
    {
     "data": {
      "text/plain": [
       "array([[1000000],\n",
       "       [      0],\n",
       "       [      0],\n",
       "       [      0],\n",
       "       [      0]])"
      ]
     },
     "execution_count": 11,
     "metadata": {},
     "output_type": "execute_result"
    }
   ],
   "source": [
    "x"
   ]
  },
  {
   "cell_type": "code",
   "execution_count": 12,
   "metadata": {},
   "outputs": [
    {
     "data": {
      "text/plain": [
       "array([[0.8 , 0.  , 0.  , 0.  , 0.  ],\n",
       "       [0.2 , 0.6 , 0.  , 0.  , 0.  ],\n",
       "       [0.  , 0.15, 0.7 , 0.  , 0.  ],\n",
       "       [0.  , 0.25, 0.15, 1.  , 0.  ],\n",
       "       [0.  , 0.  , 0.15, 0.  , 1.  ]])"
      ]
     },
     "execution_count": 12,
     "metadata": {},
     "output_type": "execute_result"
    }
   ],
   "source": [
    "A"
   ]
  },
  {
   "cell_type": "code",
   "execution_count": 13,
   "metadata": {},
   "outputs": [],
   "source": [
    "def vector_poblacion(dias):\n",
    "    sl = 0.20\n",
    "    lg = 0.15\n",
    "    lr = 0.25\n",
    "    gr = 0.15\n",
    "    gf = 0.15\n",
    "\n",
    "    x = np.array([[1000000], [0], [0], [0], [0]])\n",
    "    A = np.array([[1 - sl, 0, 0, 0, 0], [sl, 1 - lr - lg, 0, 0, 0], [0, lg, 1 - gr - gf, 0, 0], [0, lr, gr, 1, 0],\n",
    "                 [0, 0, gf, 0, 1]])\n",
    "    \n",
    "    sanos = [1000000]\n",
    "    leves = [0]\n",
    "    graves = [0]\n",
    "    recuperados = [0]\n",
    "    fallecidos = [0]\n",
    "    \n",
    "    for i in range (1, dias + 1):\n",
    "        x = np.dot(A, x)\n",
    "        poblacion = [int(elem) for elem in x]\n",
    "        sanos.append(poblacion[0])\n",
    "        leves.append(poblacion[1])\n",
    "        graves.append(poblacion[2])\n",
    "        recuperados.append(poblacion[3])\n",
    "        fallecidos.append(poblacion[4])\n",
    "\n",
    "    plt.figure()\n",
    "    plt.plot(sanos, c='green')\n",
    "    plt.plot(leves, c='orange')\n",
    "    plt.plot(graves, c='red')\n",
    "    plt.plot(recuperados, c='blue')\n",
    "    plt.plot(fallecidos, c='gray')\n",
    "    plt.legend(['sanos', 'leves', 'graves', 'recuperados', 'fallecidos'])\n",
    "    plt.xlabel('dias')\n",
    "    plt.ylabel('numero de personas')\n",
    "    plt.title(f'N = {dias}')\n",
    "    \n",
    "    return [int(elem) for elem in x]"
   ]
  },
  {
   "cell_type": "code",
   "execution_count": 15,
   "metadata": {},
   "outputs": [
    {
     "data": {
      "text/plain": [
       "[14, 14, 21, 812466, 187483]"
      ]
     },
     "execution_count": 15,
     "metadata": {},
     "output_type": "execute_result"
    },
    {
     "data": {
      "image/png": "[encoded data removed]",
      "text/plain": [
       "<Figure size 640x480 with 1 Axes>"
      ]
     },
     "metadata": {},
     "output_type": "display_data"
    }
   ],
   "source": [
    "vector_poblacion(50)"
   ]
  },
  {
   "cell_type": "code",
   "execution_count": null,
   "metadata": {},
   "outputs": [],
   "source": []
  }
 ],
 "metadata": {
  "colab": {
   "collapsed_sections": [],
   "provenance": []
  },
  "kernelspec": {
   "display_name": "Python 3 (ipykernel)",
   "language": "python",
   "name": "python3"
  },
  "language_info": {
   "codemirror_mode": {
    "name": "ipython",
    "version": 3
   },
   "file_extension": ".py",
   "mimetype": "text/x-python",
   "name": "python",
   "nbconvert_exporter": "python",
   "pygments_lexer": "ipython3",
   "version": "3.9.13"
  }
 },
 "nbformat": 4,
 "nbformat_minor": 1
}
