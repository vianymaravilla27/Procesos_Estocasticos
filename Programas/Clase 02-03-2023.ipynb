{
 "cells": [
  {
   "cell_type": "markdown",
   "id": "a97e5de8",
   "metadata": {},
   "source": [
    "# Implementación de Agujas de Buffon\n",
    "### Fecha: 02/03/2023"
   ]
  },
  {
   "cell_type": "code",
   "execution_count": 1,
   "id": "5efe8bf8",
   "metadata": {},
   "outputs": [],
   "source": [
    "import numpy as np\n",
    "from numpy import pi, sin, random"
   ]
  },
  {
   "cell_type": "code",
   "execution_count": 3,
   "id": "3d9a2fdd",
   "metadata": {},
   "outputs": [],
   "source": [
    "def rand_array (n):\n",
    "    lista = [0] * n\n",
    "    for i in range(n):\n",
    "        lista[i] = random.random()\n",
    "\n",
    "        return np.array(lista)"
   ]
  },
  {
   "cell_type": "code",
   "execution_count": 4,
   "id": "870c9fe3",
   "metadata": {},
   "outputs": [],
   "source": [
    "def buffon(throws):\n",
    "    x = rand_array(throws)\n",
    "    theta = rand_array(throws)\n",
    "    theta = 0.5 * pi * theta\n",
    "    hits = x <= 0.5 * sin(theta)\n",
    "    \n",
    "    return throws / sum (hits)"
   ]
  },
  {
   "cell_type": "code",
   "execution_count": 15,
   "id": "5ca6c091",
   "metadata": {},
   "outputs": [
    {
     "data": {
      "text/plain": [
       "1.0"
      ]
     },
     "execution_count": 15,
     "metadata": {},
     "output_type": "execute_result"
    }
   ],
   "source": [
    "# Con 100\n",
    "\n",
    "buffon(100)"
   ]
  },
  {
   "cell_type": "markdown",
   "id": "67794e43",
   "metadata": {},
   "source": [
    "### Código 2, hacer como si fuera un dado"
   ]
  },
  {
   "cell_type": "code",
   "execution_count": 2,
   "id": "a48c246b",
   "metadata": {},
   "outputs": [
    {
     "ename": "SyntaxError",
     "evalue": "invalid syntax (650262560.py, line 6)",
     "output_type": "error",
     "traceback": [
      "\u001b[1;36m  Input \u001b[1;32mIn [2]\u001b[1;36m\u001b[0m\n\u001b[1;33m    if x * x + y * y <1\u001b[0m\n\u001b[1;37m                       ^\u001b[0m\n\u001b[1;31mSyntaxError\u001b[0m\u001b[1;31m:\u001b[0m invalid syntax\n"
     ]
    }
   ],
   "source": [
    "def pi_aprox(n):\n",
    "    con = 0.0\n",
    "    for i in range(n):\n",
    "        x = 2 * random.random()-1.0\n",
    "        y = 2 * random.random()-1.0\n",
    "    if x * x + y * y <1\n",
    "    con = con + 1.0\n",
    "    \n",
    "return 4 * (con/n)"
   ]
  },
  {
   "cell_type": "code",
   "execution_count": null,
   "id": "b68f7f1e",
   "metadata": {},
   "outputs": [],
   "source": []
  }
 ],
 "metadata": {
  "kernelspec": {
   "display_name": "Python 3 (ipykernel)",
   "language": "python",
   "name": "python3"
  },
  "language_info": {
   "codemirror_mode": {
    "name": "ipython",
    "version": 3
   },
   "file_extension": ".py",
   "mimetype": "text/x-python",
   "name": "python",
   "nbconvert_exporter": "python",
   "pygments_lexer": "ipython3",
   "version": "3.9.12"
  }
 },
 "nbformat": 4,
 "nbformat_minor": 5
}
