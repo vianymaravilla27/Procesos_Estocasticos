{
 "cells": [
  {
   "cell_type": "code",
   "execution_count": null,
   "id": "2fe1936a",
   "metadata": {},
   "outputs": [],
   "source": [
    "# Clase 08/03/2023"
   ]
  },
  {
   "cell_type": "code",
   "execution_count": 1,
   "id": "93e6dae8",
   "metadata": {},
   "outputs": [],
   "source": [
    "import numpy as np\n",
    "from numpy import random"
   ]
  },
  {
   "cell_type": "code",
   "execution_count": 8,
   "id": "b5028047",
   "metadata": {},
   "outputs": [],
   "source": [
    "def intrand(n):\n",
    "    r = 0.0\n",
    "    for i in range(n):\n",
    "        u = random.random()\n",
    "        r = r + u * u\n",
    "        return r/n"
   ]
  },
  {
   "cell_type": "code",
   "execution_count": 32,
   "id": "9b46dd96",
   "metadata": {},
   "outputs": [
    {
     "data": {
      "text/plain": [
       "0.08616096929119699"
      ]
     },
     "execution_count": 32,
     "metadata": {},
     "output_type": "execute_result"
    }
   ],
   "source": [
    "intrand(100)"
   ]
  },
  {
   "cell_type": "code",
   "execution_count": null,
   "id": "53d38dbb",
   "metadata": {},
   "outputs": [],
   "source": []
  },
  {
   "cell_type": "code",
   "execution_count": null,
   "id": "c5ba4fa6",
   "metadata": {},
   "outputs": [],
   "source": []
  }
 ],
 "metadata": {
  "kernelspec": {
   "display_name": "Python 3 (ipykernel)",
   "language": "python",
   "name": "python3"
  },
  "language_info": {
   "codemirror_mode": {
    "name": "ipython",
    "version": 3
   },
   "file_extension": ".py",
   "mimetype": "text/x-python",
   "name": "python",
   "nbconvert_exporter": "python",
   "pygments_lexer": "ipython3",
   "version": "3.9.12"
  }
 },
 "nbformat": 4,
 "nbformat_minor": 5
}
