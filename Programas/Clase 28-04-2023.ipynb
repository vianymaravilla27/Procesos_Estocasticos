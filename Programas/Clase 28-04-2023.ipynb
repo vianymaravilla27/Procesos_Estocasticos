{
 "cells": [
  {
   "cell_type": "code",
   "execution_count": 12,
   "id": "56ae157b",
   "metadata": {},
   "outputs": [],
   "source": [
    "import numpy as np\n",
    "from numpy import pi, sin, random, log\n",
    "from matplotlib import pyplot as plt"
   ]
  },
  {
   "cell_type": "code",
   "execution_count": 15,
   "id": "3a37bc1d",
   "metadata": {},
   "outputs": [],
   "source": [
    "def snrotun(n = 1000):\n",
    "    u1 = np.random.rand(n)\n",
    "    u2 = np.random.rand(n)\n",
    "    w1 = np.sqrt((-2 * np.log(u1)))\n",
    "    w2 = 2 * np.pi * u2\n",
    "    z1 = w1 * np.cos(w2)\n",
    "    z2 = w2 * np.sin(w2)\n",
    "    return (z1, z2, u1, u2)"
   ]
  },
  {
   "cell_type": "code",
   "execution_count": 16,
   "id": "655cb959",
   "metadata": {},
   "outputs": [
    {
     "data": {
      "text/plain": [
       "(array([  1.,   0.,   1.,   0.,   4.,   4.,   7.,  15.,  27.,  24.,  52.,\n",
       "         70.,  90.,  85., 109.,  93., 106.,  85.,  72.,  43.,  53.,  16.,\n",
       "         21.,  15.,   3.,   1.,   2.,   1.]),\n",
       " array([-3.94016103, -3.6780521 , -3.41594316, -3.15383422, -2.89172529,\n",
       "        -2.62961635, -2.36750742, -2.10539848, -1.84328954, -1.58118061,\n",
       "        -1.31907167, -1.05696273, -0.7948538 , -0.53274486, -0.27063593,\n",
       "        -0.00852699,  0.25358195,  0.51569088,  0.77779982,  1.03990876,\n",
       "         1.30201769,  1.56412663,  1.82623556,  2.0883445 ,  2.35045344,\n",
       "         2.61256237,  2.87467131,  3.13678025,  3.39888918]),\n",
       " <BarContainer object of 28 artists>)"
      ]
     },
     "execution_count": 16,
     "metadata": {},
     "output_type": "execute_result"
    },
    {
     "data": {
      "image/png": "[encoded data removed]",
      "text/plain": [
       "<Figure size 432x288 with 1 Axes>"
      ]
     },
     "metadata": {
      "needs_background": "light"
     },
     "output_type": "display_data"
    }
   ],
   "source": [
    "# Llamar a la funcion \n",
    "z1, z2, u1, u2 = snrotun()\n",
    "plt.hist(u1, \"auto\")\n",
    "plt.hist(z1, \"auto\")"
   ]
  },
  {
   "cell_type": "code",
   "execution_count": null,
   "id": "78231edb",
   "metadata": {},
   "outputs": [],
   "source": []
  }
 ],
 "metadata": {
  "kernelspec": {
   "display_name": "Python 3 (ipykernel)",
   "language": "python",
   "name": "python3"
  },
  "language_info": {
   "codemirror_mode": {
    "name": "ipython",
    "version": 3
   },
   "file_extension": ".py",
   "mimetype": "text/x-python",
   "name": "python",
   "nbconvert_exporter": "python",
   "pygments_lexer": "ipython3",
   "version": "3.9.12"
  }
 },
 "nbformat": 4,
 "nbformat_minor": 5
}
