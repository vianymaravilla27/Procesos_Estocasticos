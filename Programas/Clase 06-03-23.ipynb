{
 "cells": [
  {
   "cell_type": "markdown",
   "id": "ae57e520",
   "metadata": {},
   "source": [
    "# Generación de números aleatorios uniformemente distribuidos \n",
    "\n",
    "### Fecha: 06/03/2023"
   ]
  },
  {
   "cell_type": "code",
   "execution_count": 20,
   "id": "8a8f3bc2",
   "metadata": {},
   "outputs": [],
   "source": [
    "import numpy as np\n",
    "import random\n",
    "import matplotlib.pyplot as plt\n",
    "#from matplotlib import pyplot as plt"
   ]
  },
  {
   "cell_type": "code",
   "execution_count": 33,
   "id": "9b95250a",
   "metadata": {},
   "outputs": [],
   "source": [
    "def seed (ini):\n",
    "    global rand\n",
    "    rand = ini\n",
    "    "
   ]
  },
  {
   "cell_type": "code",
   "execution_count": 34,
   "id": "dc269a53",
   "metadata": {},
   "outputs": [],
   "source": [
    "def randcon(n):\n",
    "    global rand\n",
    "    a = 16887 # 7**5\n",
    "    m = 2147483647 # 2**3!\n",
    "    num = []\n",
    "    for k in range (0,n):\n",
    "        rand = a * rand % m\n",
    "        num = num +[rand]\n",
    "    return np.array(num)"
   ]
  },
  {
   "cell_type": "code",
   "execution_count": 39,
   "id": "e5ccdbfc",
   "metadata": {},
   "outputs": [],
   "source": [
    "seed(5)"
   ]
  },
  {
   "cell_type": "code",
   "execution_count": 41,
   "id": "5f266a65",
   "metadata": {},
   "outputs": [
    {
     "data": {
      "image/png": "[encoded data removed]",
      "text/plain": [
       "<Figure size 432x288 with 1 Axes>"
      ]
     },
     "metadata": {
      "needs_background": "light"
     },
     "output_type": "display_data"
    }
   ],
   "source": [
    "plt.hist(randcon(500), bins =\"auto\")\n",
    "plt.show()"
   ]
  },
  {
   "cell_type": "code",
   "execution_count": 42,
   "id": "d9031740",
   "metadata": {},
   "outputs": [
    {
     "data": {
      "image/png": "[encoded data removed]",
      "text/plain": [
       "<Figure size 432x288 with 1 Axes>"
      ]
     },
     "metadata": {
      "needs_background": "light"
     },
     "output_type": "display_data"
    }
   ],
   "source": [
    "seed(5)\n",
    "plt.hist(randcon(50), bins =\"auto\")\n",
    "plt.show()"
   ]
  },
  {
   "cell_type": "code",
   "execution_count": null,
   "id": "2ed35527",
   "metadata": {},
   "outputs": [],
   "source": []
  }
 ],
 "metadata": {
  "kernelspec": {
   "display_name": "Python 3 (ipykernel)",
   "language": "python",
   "name": "python3"
  },
  "language_info": {
   "codemirror_mode": {
    "name": "ipython",
    "version": 3
   },
   "file_extension": ".py",
   "mimetype": "text/x-python",
   "name": "python",
   "nbconvert_exporter": "python",
   "pygments_lexer": "ipython3",
   "version": "3.9.12"
  }
 },
 "nbformat": 4,
 "nbformat_minor": 5
}
