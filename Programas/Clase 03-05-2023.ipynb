{
 "cells": [
  {
   "cell_type": "code",
   "execution_count": 8,
   "id": "8c023b34",
   "metadata": {},
   "outputs": [],
   "source": [
    "import matplotlib.pyplot as plt\n",
    "from numpy import pi, sin, random, log"
   ]
  },
  {
   "cell_type": "code",
   "execution_count": 16,
   "id": "e834eaa0",
   "metadata": {},
   "outputs": [
    {
     "data": {
      "text/plain": [
       "(array([207., 162., 138., 103.,  74.,  56.,  59.,  43.,  24.,  28.,  25.,\n",
       "         22.,  10.,   9.,   6.,   5.,   2.,   3.,   6.,   2.,   3.,   3.,\n",
       "          2.,   0.,   0.,   3.,   0.,   1.,   2.,   0.,   0.,   0.,   0.,\n",
       "          1.,   1.]),\n",
       " array([6.50380405e-04, 2.20923062e-01, 4.41195743e-01, 6.61468424e-01,\n",
       "        8.81741105e-01, 1.10201379e+00, 1.32228647e+00, 1.54255915e+00,\n",
       "        1.76283183e+00, 1.98310451e+00, 2.20337719e+00, 2.42364987e+00,\n",
       "        2.64392255e+00, 2.86419524e+00, 3.08446792e+00, 3.30474060e+00,\n",
       "        3.52501328e+00, 3.74528596e+00, 3.96555864e+00, 4.18583132e+00,\n",
       "        4.40610400e+00, 4.62637668e+00, 4.84664937e+00, 5.06692205e+00,\n",
       "        5.28719473e+00, 5.50746741e+00, 5.72774009e+00, 5.94801277e+00,\n",
       "        6.16828545e+00, 6.38855813e+00, 6.60883082e+00, 6.82910350e+00,\n",
       "        7.04937618e+00, 7.26964886e+00, 7.48992154e+00, 7.71019422e+00]),\n",
       " <BarContainer object of 35 artists>)"
      ]
     },
     "execution_count": 16,
     "metadata": {},
     "output_type": "execute_result"
    },
    {
     "data": {
      "image/png": "[encoded data removed]",
      "text/plain": [
       "<Figure size 432x288 with 1 Axes>"
      ]
     },
     "metadata": {
      "needs_background": "light"
     },
     "output_type": "display_data"
    }
   ],
   "source": [
    "u = random.rand(1000)\n",
    "x = -log(u)\n",
    "plt.hist(x, \"auto\")"
   ]
  },
  {
   "cell_type": "code",
   "execution_count": 19,
   "id": "2bd4d150",
   "metadata": {},
   "outputs": [
    {
     "data": {
      "text/plain": [
       "(array([206., 155., 123., 105.,  70.,  78.,  45.,  40.,  27.,  20.,  24.,\n",
       "         15.,  25.,  16.,  15.,   5.,   6.,   3.,   3.,   1.,   4.,   4.,\n",
       "          2.,   3.,   0.,   0.,   0.,   0.,   1.,   1.,   2.,   0.,   0.,\n",
       "          1.]),\n",
       " array([2.85513507e-05, 2.18659993e-01, 4.37291434e-01, 6.55922876e-01,\n",
       "        8.74554317e-01, 1.09318576e+00, 1.31181720e+00, 1.53044864e+00,\n",
       "        1.74908008e+00, 1.96771152e+00, 2.18634297e+00, 2.40497441e+00,\n",
       "        2.62360585e+00, 2.84223729e+00, 3.06086873e+00, 3.27950017e+00,\n",
       "        3.49813161e+00, 3.71676306e+00, 3.93539450e+00, 4.15402594e+00,\n",
       "        4.37265738e+00, 4.59128882e+00, 4.80992026e+00, 5.02855171e+00,\n",
       "        5.24718315e+00, 5.46581459e+00, 5.68444603e+00, 5.90307747e+00,\n",
       "        6.12170891e+00, 6.34034035e+00, 6.55897180e+00, 6.77760324e+00,\n",
       "        6.99623468e+00, 7.21486612e+00, 7.43349756e+00]),\n",
       " <BarContainer object of 34 artists>)"
      ]
     },
     "execution_count": 19,
     "metadata": {},
     "output_type": "execute_result"
    },
    {
     "data": {
      "image/png": "[encoded data removed]",
      "text/plain": [
       "<Figure size 432x288 with 1 Axes>"
      ]
     },
     "metadata": {
      "needs_background": "light"
     },
     "output_type": "display_data"
    }
   ],
   "source": [
    "n = random.rand(1000)\n",
    "x = -log(1-u)\n",
    "plt.hist(x, \"auto\")"
   ]
  },
  {
   "cell_type": "code",
   "execution_count": null,
   "id": "ef7ab5de",
   "metadata": {},
   "outputs": [],
   "source": []
  }
 ],
 "metadata": {
  "kernelspec": {
   "display_name": "Python 3 (ipykernel)",
   "language": "python",
   "name": "python3"
  },
  "language_info": {
   "codemirror_mode": {
    "name": "ipython",
    "version": 3
   },
   "file_extension": ".py",
   "mimetype": "text/x-python",
   "name": "python",
   "nbconvert_exporter": "python",
   "pygments_lexer": "ipython3",
   "version": "3.9.12"
  }
 },
 "nbformat": 4,
 "nbformat_minor": 5
}
